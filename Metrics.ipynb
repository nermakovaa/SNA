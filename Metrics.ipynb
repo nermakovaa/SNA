{
 "cells": [
  {
   "cell_type": "code",
   "execution_count": 30,
   "metadata": {},
   "outputs": [
    {
     "name": "stdout",
     "output_type": "stream",
     "text": [
      "[{'vk': [{'groupId': '19817989', 'posts': [{'id': 2221808, 'text': 'А еще мне удалось попробовать еще одну #ВВновинку -Пирожки постные с рисом и грибами. Пирожки-великолепные. Хорошее тесто и много начинки! Грибочки в начинке -очень понравились!', 'views': None, 'forwards': 0, 'replies': [{'text': 'Мне они тоже понравились', 'sender_id': 103700096, 'date': 1713129164, 'reactions': [{'emoji': 'like', 'count': 4}], 'replies': 2, 'sender_name': 'Любовь', 'last_name': 'Креминская', 'sex': 1, 'city': 'Санкт-Петербург', 'bdate': '23.4'}], 'date': 1713127426, 'reactions': [{'emoji': 'like', 'count': 30}]}, {'id': 2221793, 'text': 'Хотела поделиться впечатлением об этом печенье-#ВВновинку Печенье сахарное с изюмом. Очень вкусное печенье,нежное на вкус. Изюм придает пикантность. Пачку очень быстро съели! Всем советуем!', 'views': None, 'forwards': 0, 'replies': [{'text': 'Мы только первую быстро скушали, а после второй решили, что наелись и больше не хотим 😂', 'sender_id': 380405, 'date': 1713132567, 'reactions': [{'emoji': 'like', 'count': 4}], 'replies': 0, 'sender_name': 'Мария', 'last_name': 'Romanova', 'sex': 1, 'city': 'Москва', 'bdate': '17.5'}, {'text': 'Надо брать однозначно', 'sender_id': 588079193, 'date': 1713158530, 'reactions': [{'emoji': 'like', 'count': 2}], 'replies': 0, 'sender_name': 'Татьяна', 'last_name': 'Балакирева', 'sex': 1, 'city': 'Москва', 'bdate': '14.2.1987'}, {'text': 'У нас тоже быстро закончилось.', 'sender_id': 116534950, 'date': 1713162009, 'reactions': [{'emoji': 'like', 'count': 2}], 'replies': 0, 'sender_name': 'Ольга', 'last_name': 'Гадкова-Князева', 'sex': 1, 'city': 'Балашиха', 'bdate': '6.8.1979'}, {'text': '[id150437299|Александра Балуева],  с молоком или кефиром 1% они едятся как семечки Спасибо за обзор', 'sender_id': 763092240, 'date': 1713164801, 'reactions': [{'emoji': 'like', 'count': 2}], 'replies': 0, 'sender_name': 'Денис', 'last_name': 'Вкусвилл', 'sex': 2, 'city': None, 'bdate': None}], 'date': 1713126995, 'reactions': [{'emoji': 'like', 'count': 26}]}, {'id': 2220000, 'text': 'Прекрасная пятница подходит к своему завершению. Надеемся, что вкусные продукты смогли сегодня отправить вас в полет наслаждений❤. Вы уже успели запустить нашу ракету? Если ещё нет, то найти её можете', 'views': 120, 'forwards': 0, 'replies': [{'text': 'Пойду запускать ракету всем хорошего вечера и до новых встреч', 'sender_id': 588079193, 'date': 1712945765, 'reactions': [{'emoji': 'like', 'count': 7}], 'replies': 0, 'sender_name': 'Татьяна', 'last_name': 'Балакирева', 'sex': 1, 'city': 'Москва', 'bdate': '14.2.1987'}, {'text': 'Сказочное фото, спокойной ночи', 'sender_id': 66139334, 'date': 1712947002, 'reactions': [{'emoji': 'like', 'count': 7}], 'replies': 0, 'sender_name': 'Наталья', 'last_name': 'Костомахина', 'sex': 1, 'city': 'Москва', 'bdate': None}, {'text': 'Ваааау, спасибо за такое фото, Денис!! И вам прекрасного вечера!', 'sender_id': 15449237, 'date': 1712947114, 'reactions': [{'emoji': 'like', 'count': 7}], 'replies': 0, 'sender_name': 'Ольга', 'last_name': 'Глушакова', 'sex': 1, 'city': 'Сертолово', 'bdate': '5.4.1988'}], 'date': 1712614133, 'reactions': [{'emoji': 'like', 'count': 42}]}], 'membersCount': 77335, 'membersIds': [108718, 109631, 110048, 110286, 110351, 110393, 110690, 110829, 110971, 111011, 111576, 111683, 112011, 112592, 112734, 114255, 114762, 114799, 115474, 116330, 116581, 116909, 116985, 117270, 117709, 118719, 118740, 119392, 119509, 119898, 120069, 120900, 120934, 121094, 121248, 121507, 121837, 122262, 123806, 124398, 124819, 125473, 126453, 126461, 127323, 127350, 127781, 128303, 128542, 129867, 129880, 130294, 130357, 130986, 131182, 131189, 131508, 131608, 131875, 132357, 132540, 132658, 132785, 133412, 133580, 133718, 133818, 134281, 134553, 134578, 134854, 134935, 136050, 136144, 136363, 137257, 137892, 138310, 138748, 139089, 139367, 139437, 139767, 139777, 139780, 140086, 140146, 140874, 140882, 141391, 141684, 142758, 143014, 143080, 143201, 143313, 143478, 144185, 144486, 144671, 145139, 145908, 145987, 146277, 147188, 147772, 147871, 148720, 149135, 151314, 151710, 151833, 152687, 152702, 153045, 153581, 153633, 153678, 154463, 155061, 157312, 158621, 158813, 159173, 159278, 159325, 159439, 159620, 160280, 160432, 160969, 161234, 161284, 161380, 162198, 162607, 163928, 164345, 164888, 165026, 166163, 166616, 166884, 167574, 167788, 168231, 168264, 169000, 169294, 169594, 170530, 170795, 171250, 172410, 173538, 173621, 174034, 174053, 174688, 175731, 175803, 176785, 176983, 177453, 177527, 177737, 177842, 177855, 177997, 178233, 178404, 179255, 179380, 180648, 180674, 181413, 181438, 182322, 182600, 183499, 183555, 183728, 183905, 184245, 185685, 186025, 186072, 186202, 186614, 186908, 187136, 188644, 188748, 188947, 189302, 189424, 190135, 190284, 190468, 190605, 191431, 191690, 191897, 192970, 193044, 193375, 194640, 195347, 195488, 195703, 195730, 195911, 196433, 196896, 197504, 197582, 198443, 199383, 199443, 200414, 200558, 201123, 202616, 203461, 203793, 203955, 204175, 204240, 205365, 205602, 206226, 207052, 207426, 207799, 207911, 208005, 208486, 208736, 209130, 209139, 209729, 210340, 211118, 211846, 211948, 212283, 212490, 212862, 214147, 214178, 214295, 214989, 215370, 215549, 216020, 216944, 217212, 217280, 217809, 217896, 219054, 219060, 219617, 219934, 221169, 221287, 221356, 221603, 221951, 222161, 222216, 222488, 223833, 224065, 224356, 224774, 224911, 225031, 225124, 225403, 225590, 225884, 226394, 227107, 227114, 227907, 228007, 228326, 228494, 228515, 229228, 229320, 229524, 229813, 230101, 230323, 230587, 230634, 231777, 232112, 232354, 232398, 232737, 233190, 233261, 233670, 233679, 233921, 234123, 235233, 237863, 239171, 239471, 239480, 239939, 240162, 240207, 240318, 241143, 241364, 241535, 241552, 241631, 242060, 242852, 243169, 243643, 243892, 244693, 244850, 244861, 244878, 244923, 245546, 246345, 247367, 247648, 247912, 248137, 248221, 248317, 248468, 248527, 248677, 248867, 249509, 249833, 250230, 250873, 250939, 251228, 251481, 251757, 252069, 253684, 254151, 254320, 254421, 255038, 255174, 256254, 256312, 256684, 256758, 256796, 257497, 257757, 258201, 258624, 258784, 258864, 259078, 259415, 259718, 260011, 261094, 261685, 261816, 261848, 261872, 262129, 262153, 262960, 263277, 264414, 264571, 264950, 265213, 265299, 265354, 265467, 266695, 266775, 267008, 267353, 267782, 268082, 268563, 268755, 268953, 269105, 269162, 269335, 269359, 269612, 269767, 270015, 270036, 270205, 270507, 270718, 271382, 271730, 271778, 272102, 272103, 272856, 273365, 273557, 273727, 274057, 274443, 274640, 274798, 275058, 275524, 275576, 276253, 276412, 276700, 276834, 277310, 277618, 277875, 278116, 278551, 279231, 279356, 279609, 279736, 280045, 280580, 281677, 281690, 282428, 282503, 282891, 282963, 283108, 283663, 283916, 284234, 284440, 285044, 285413, 285606, 285681, 286015, 286196, 286723, 286745, 286873, 287349, 287566, 287652, 287678, 288326, 288398, 288654, 289968, 290044, 290334, 290559, 290622, 290922, 291105, 291107, 291174, 291735, 291940, 292562, 292842, 293246, 293364, 293370, 293694, 295110, 295141, 295462, 296002, 296459, 296645, 297748, 297783, 298394, 298912, 298977, 299267, 299970, 300129], 'crawlingTitle': 'несколько дней [vk]', 'from': '9/4/2024', 'to': '14/4/2024', 'groupName': 'ВкусВилл. Здесь полезное вкусно'}], 'tg': [{'chatId': 'we_are_vkusvill', 'posts': [{'id': 5411, 'text': 'А если хотите узнать, что на самом деле едят в космосе — и', 'replies': [{'sender_id': 503928602, 'sender_name': 'Lilamam', 'last_name': None, 'sex': None, 'city': None, 'bdate': None, 'text': 'А почему у вас нет воды легенда гор в 19 литровых бутылках?))', 'date': '04/13/2024', 'reactions': [{'emoji': '🥰', 'count': 1}], 'replies': None}, {'sender_id': 875429873, 'sender_name': 'Елена', 'last_name': None, 'sex': None, 'city': None, 'bdate': None, 'text': 'Бенто со сгущенкой', 'date': '04/13/2024', 'reactions': [{'emoji': '😁', 'count': 1}], 'replies': None}, {'sender_id': 432568275, 'sender_name': 'One', 'last_name': 'One', 'sex': None, 'city': None, 'bdate': None, 'text': 'О, словечки вернулись', 'date': '04/12/2024', 'reactions': [{'emoji': '❤', 'count': 5}], 'replies': None}], 'views': 23489, 'forwards': 20, 'post_date': '04/12/2024', 'reactions': [{'emoji': '❤', 'count': 118}, {'emoji': '🔥', 'count': 55}, {'emoji': None, 'count': 27}, {'emoji': '😍', 'count': 8}, {'emoji': '💯', 'count': 5}, {'emoji': '👍', 'count': 3}, {'emoji': '⚡', 'count': 3}, {'emoji': '👎', 'count': 1}]}, {'id': 5401, 'text': 'Представьте, что можете запрыгнуть в космический корабль, пронзить пространство и оказаться на одной из планет где-то во Вкусной...', 'replies': [{'sender_id': -1001403138288, 'sender_name': 'ВкусВилл комм.', 'last_name': 'Admin', 'sex': None, 'city': None, 'bdate': None, 'text': 'Добрый день, Алина', 'date': '04/13/2024', 'reactions': [{'emoji': '❤', 'count': 1}], 'replies': None}, {'sender_id': -1001403138288, 'sender_name': 'ВкусВилл комм.', 'last_name': 'Admin', 'sex': None, 'city': None, 'bdate': None, 'text': None, 'date': '04/13/2024', 'reactions': [{'emoji': '⚡', 'count': 1}], 'replies': None}, {'sender_id': -1001403138288, 'sender_name': 'ВкусВилл комм.', 'last_name': 'Admin', 'sex': None, 'city': None, 'bdate': None, 'text': 'Полностью поддерживаем вас в этом выборе', 'date': '04/12/2024', 'reactions': [{'emoji': '❤', 'count': 1}], 'replies': None}, {'sender_id': 453818767, 'sender_name': 'Сергей', 'last_name': 'Долгов ', 'sex': None, 'city': None, 'bdate': None, 'text': 'Я на хлебной планете уже 7 лет)', 'date': '04/12/2024', 'reactions': [{'emoji': '❤', 'count': 1}], 'replies': None}, {'sender_id': -1001403138288, 'sender_name': 'ВкусВилл комм.', 'last_name': 'Admin', 'sex': None, 'city': None, 'bdate': None, 'text': 'Любимое мороженое. И на Пломбирной планете можно было бы пополнять бесконечно ведерко', 'date': '04/12/2024', 'reactions': [{'emoji': '👍', 'count': 4}, {'emoji': '❤', 'count': 2}], 'replies': None}, {'sender_id': 222641683, 'sender_name': 'Mii', 'last_name': None, 'sex': None, 'city': None, 'bdate': None, 'text': 'Промокодов для постоянных клиентов давно не было(', 'date': '04/09/2024', 'reactions': [{'emoji': '❤', 'count': 17}], 'replies': None}], 'views': 29822, 'forwards': 117, 'post_date': '04/09/2024', 'reactions': [{'emoji': '❤', 'count': 470}, {'emoji': '👍', 'count': 79}, {'emoji': '🤣', 'count': 71}, {'emoji': None, 'count': 64}, {'emoji': '👎', 'count': 35}, {'emoji': '⚡', 'count': 22}, {'emoji': '🔥', 'count': 19}]}], 'membersCount': 116660, 'membersIds': [], 'crawlingTitle': 'несколько дней [tg]', 'from': '9/4/2024', 'to': '14/4/2024', 'chatTitle': 'ВкусВилл'}]}]\n"
     ]
    }
   ],
   "source": [
    "import json\n",
    "\n",
    "with open('/home/nermakovaa/semester_4/SNA/SNA/data/data.json', 'r') as file:\n",
    "    data = json.load(file)\n",
    "    \n",
    "print(data)"
   ]
  },
  {
   "cell_type": "markdown",
   "metadata": {},
   "source": [
    "## Tg"
   ]
  },
  {
   "cell_type": "markdown",
   "metadata": {},
   "source": [
    "### Love Rate"
   ]
  },
  {
   "cell_type": "code",
   "execution_count": 5,
   "metadata": {},
   "outputs": [
    {
     "data": {
      "text/plain": [
       "1.1029618652810864"
      ]
     },
     "execution_count": 5,
     "metadata": {},
     "output_type": "execute_result"
    }
   ],
   "source": [
    "def love_rate(data):\n",
    "    \"\"\"\n",
    "    Коэффициент привлекательности (Love Rate)\n",
    "    (Количество лайков / Общее количество уникальных просмотров ) * 100%\n",
    "    \"\"\"\n",
    "    total_views = 0\n",
    "    total_likes = 0\n",
    "\n",
    "    for i in data:\n",
    "        for item in i['tg']:\n",
    "            total_views += sum([0 if _[\"views\"] is None else _[\"views\"] for _ in item[\"posts\"]])\n",
    "            total_likes += sum([reaction[\"count\"] for post in item[\"posts\"] for reaction in post[\"reactions\"] if reaction[\"emoji\"] == \"❤\"])\n",
    "\n",
    "    if total_views > 0 and total_likes > 0:\n",
    "        love_rate = (total_likes / total_views) * 100\n",
    "        return love_rate\n",
    "    else:\n",
    "        return 0\n",
    "    \n",
    "love_rate(data)"
   ]
  },
  {
   "cell_type": "markdown",
   "metadata": {},
   "source": [
    "### Engagement Rate "
   ]
  },
  {
   "cell_type": "code",
   "execution_count": 6,
   "metadata": {},
   "outputs": [
    {
     "data": {
      "text/plain": [
       "0.9626264357963312"
      ]
     },
     "execution_count": 6,
     "metadata": {},
     "output_type": "execute_result"
    }
   ],
   "source": [
    "def engagement_rate(self):\n",
    "    '''\n",
    "    Коэффициент вовлеченности (Engagement Rate)\n",
    "    (Общее число взаимодействий / Общее число подписчиков) * 100%\n",
    "    '''\n",
    "    total_interactions = 0\n",
    "    total_comments = 0\n",
    "\n",
    "    for i in data:\n",
    "        for item in i['tg']:\n",
    "            followers = item['membersCount']\n",
    "            likes = sum(reaction['count'] for post in item['posts'] for reaction in post['reactions'])\n",
    "            reposts = sum(post['forwards'] for post in item['posts'])\n",
    "\n",
    "            unique_sender_ids = set(comment['sender_id'] for post in item['posts'] for comment in post.get('replies', []))\n",
    "\n",
    "            total_comments += len(unique_sender_ids)\n",
    "            total_interactions += likes + total_comments + reposts\n",
    "\n",
    "    if total_interactions > 0 and followers > 0:\n",
    "        engagement_rate = (total_interactions / followers) * 100\n",
    "        return engagement_rate\n",
    "    else:\n",
    "        return 0\n",
    "\n",
    "engagement_rate(data)"
   ]
  },
  {
   "cell_type": "markdown",
   "metadata": {},
   "source": [
    "### Sentimental Analysis for messages"
   ]
  },
  {
   "cell_type": "code",
   "execution_count": 8,
   "metadata": {},
   "outputs": [
    {
     "name": "stdout",
     "output_type": "stream",
     "text": [
      "{\n",
      "    \"null\": {\n",
      "        \"users_count\": 9,\n",
      "        \"percent\": 100.0,\n",
      "        \"user_messages\": [\n",
      "            \"А почему у вас нет воды легенда гор в 19 литровых бутылках?))\",\n",
      "            \"Бенто со сгущенкой\",\n",
      "            \"О, словечки вернулись\",\n",
      "            \"Добрый день, Алина\",\n",
      "            \"Полностью поддерживаем вас в этом выборе\",\n",
      "            \"Я на хлебной планете уже 7 лет)\",\n",
      "            \"Любимое мороженое. И на Пломбирной планете можно было бы пополнять бесконечно ведерко\",\n",
      "            \"Промокодов для постоянных клиентов давно не было(\"\n",
      "        ],\n",
      "        \"positive\": 0.125,\n",
      "        \"negative\": 0.125,\n",
      "        \"neutral\": 0.75\n",
      "    }\n",
      "}\n"
     ]
    }
   ],
   "source": [
    "from transformers import pipeline\n",
    "\n",
    "def top_regions(data):\n",
    "    '''\n",
    "    Топ-20 регионов с наибольшим числом пользователей\n",
    "    [регион | пользователей | % | тональность]\n",
    "    '''\n",
    "    # https://huggingface.co/blanchefort/rubert-base-cased-sentiment модель для анализа тональности\n",
    "    classifier = pipeline(\"sentiment-analysis\", model=\"blanchefort/rubert-base-cased-sentiment\") \n",
    "\n",
    "    city_users = {}\n",
    "\n",
    "    total_users = 0\n",
    "    \n",
    "    for i in data:\n",
    "        for item in i['tg']:\n",
    "            for post in item['posts']:\n",
    "                for reply in post.get('replies', []):\n",
    "                    city = reply.get('city', 'Unknown')\n",
    "                    if city not in city_users:\n",
    "                        city_users[city] = []\n",
    "                    city_users[city].append(reply['sender_id'])\n",
    "                    total_users += 1\n",
    "\n",
    "    city_stats = {}\n",
    "    for city, users in city_users.items():\n",
    "        users_count = len(users)\n",
    "        percent = (users_count / total_users) * 100\n",
    "\n",
    "        user_messages = [post['text'] for post in item['posts'] for post in post['replies'] if post.get('city') == city and post['text'] is not None]\n",
    "        classified_messages = classifier(user_messages)\n",
    "        len_messages = len(classified_messages)\n",
    "        positive = len([i for i in classified_messages if i['label']=='POSITIVE']) / len_messages\n",
    "        negative = len([i for i in classified_messages if i['label']=='NEGATIVE']) / len_messages\n",
    "        neutral = len([i for i in classified_messages if i['label']=='NEUTRAL']) / len_messages\n",
    "\n",
    "        city_stats[city] = {\n",
    "            'users_count': users_count,\n",
    "            'percent': percent,\n",
    "            'user_messages': user_messages,\n",
    "            'positive': positive,\n",
    "            'negative': negative,\n",
    "            'neutral': neutral\n",
    "        }\n",
    "\n",
    "    # Оставляем топ-20, сортируем city_stats по users_count \n",
    "    sorted_city_stats = dict(sorted(city_stats.items(), key=lambda x: x[1]['users_count'], reverse=True)[:20])\n",
    "\n",
    "    top_regions = json.dumps(sorted_city_stats, indent=4, ensure_ascii=False)\n",
    "    return top_regions\n",
    "\n",
    "result = top_regions(data)\n",
    "print(result)"
   ]
  },
  {
   "cell_type": "markdown",
   "metadata": {},
   "source": [
    "## ВКонтакте"
   ]
  },
  {
   "cell_type": "markdown",
   "metadata": {},
   "source": [
    "### Love Rate"
   ]
  },
  {
   "cell_type": "code",
   "execution_count": 19,
   "metadata": {},
   "outputs": [
    {
     "data": {
      "text/plain": [
       "35.0"
      ]
     },
     "execution_count": 19,
     "metadata": {},
     "output_type": "execute_result"
    }
   ],
   "source": [
    "def love_rate(data):\n",
    "    \"\"\"\n",
    "    Коэффициент привлекательности (Love Rate)\n",
    "    (Количество лайков / Общее количество уникальных просмотров) * 100%\n",
    "    \"\"\"\n",
    "    total_views = 0\n",
    "    total_likes = 0\n",
    "\n",
    "    for i in data:\n",
    "        for item in i['vk']:\n",
    "            valid_posts = [post for post in item[\"posts\"] if post[\"views\"] is not None] # только те посты, где просмотры != None\n",
    "            total_views += sum([post[\"views\"] for post in valid_posts])\n",
    "            total_likes += sum([reaction[\"count\"] for post in valid_posts for reaction in post[\"reactions\"] if reaction[\"emoji\"] == \"like\"])\n",
    "\n",
    "    if total_views > 0 and total_likes > 0:\n",
    "        love_rate = (total_likes / total_views) * 100\n",
    "        return love_rate\n",
    "    else:\n",
    "        return 0\n",
    "    \n",
    "love_rate(data)"
   ]
  },
  {
   "cell_type": "markdown",
   "metadata": {},
   "source": [
    "### Engagement Rate "
   ]
  },
  {
   "cell_type": "code",
   "execution_count": 29,
   "metadata": {},
   "outputs": [
    {
     "data": {
      "text/plain": [
       "0.135772935928105"
      ]
     },
     "execution_count": 29,
     "metadata": {},
     "output_type": "execute_result"
    }
   ],
   "source": [
    "def engagement_rate(data):\n",
    "    '''\n",
    "    Коэффициент вовлеченности (Engagement Rate)\n",
    "    (Общее число взаимодействий / Общее число подписчиков) * 100%\n",
    "    '''\n",
    "    total_interactions = 0\n",
    "    total_comments = 0\n",
    "\n",
    "    for i in data:\n",
    "        for item in i['vk']:\n",
    "            followers = item['membersCount']\n",
    "            likes = sum(reaction['count'] for post in item['posts'] for reaction in post['reactions'])\n",
    "            reposts = sum(post['forwards'] for post in item['posts'])\n",
    "\n",
    "            unique_sender_ids = set(comment['sender_id'] for post in item['posts'] for comment in post.get('replies', []))\n",
    "\n",
    "            total_comments += len(unique_sender_ids)\n",
    "            total_interactions += likes + total_comments + reposts\n",
    "\n",
    "    if total_interactions > 0 and followers > 0:\n",
    "        engagement_rate = (total_interactions / followers) * 100\n",
    "        return engagement_rate\n",
    "    else:\n",
    "        return 0\n",
    "\n",
    "engagement_rate(data)"
   ]
  },
  {
   "cell_type": "markdown",
   "metadata": {},
   "source": [
    "### Sentimental Analysis for messages"
   ]
  },
  {
   "cell_type": "code",
   "execution_count": 28,
   "metadata": {},
   "outputs": [
    {
     "name": "stdout",
     "output_type": "stream",
     "text": [
      "{\n",
      "    \"Москва\": {\n",
      "        \"users_count\": 4,\n",
      "        \"percent\": 50.0,\n",
      "        \"user_messages\": [\n",
      "            \"Мы только первую быстро скушали, а после второй решили, что наелись и больше не хотим 😂\",\n",
      "            \"Надо брать однозначно\",\n",
      "            \"Пойду запускать ракету всем хорошего вечера и до новых встреч\",\n",
      "            \"Сказочное фото, спокойной ночи\"\n",
      "        ],\n",
      "        \"positive\": 0.5,\n",
      "        \"negative\": 0.25,\n",
      "        \"neutral\": 0.25\n",
      "    },\n",
      "    \"Санкт-Петербург\": {\n",
      "        \"users_count\": 1,\n",
      "        \"percent\": 12.5,\n",
      "        \"user_messages\": [\n",
      "            \"Мне они тоже понравились\"\n",
      "        ],\n",
      "        \"positive\": 1.0,\n",
      "        \"negative\": 0.0,\n",
      "        \"neutral\": 0.0\n",
      "    },\n",
      "    \"Балашиха\": {\n",
      "        \"users_count\": 1,\n",
      "        \"percent\": 12.5,\n",
      "        \"user_messages\": [\n",
      "            \"У нас тоже быстро закончилось.\"\n",
      "        ],\n",
      "        \"positive\": 0.0,\n",
      "        \"negative\": 1.0,\n",
      "        \"neutral\": 0.0\n",
      "    },\n",
      "    \"null\": {\n",
      "        \"users_count\": 1,\n",
      "        \"percent\": 12.5,\n",
      "        \"user_messages\": [\n",
      "            \"[id150437299|Александра Балуева],  с молоком или кефиром 1% они едятся как семечки Спасибо за обзор\"\n",
      "        ],\n",
      "        \"positive\": 1.0,\n",
      "        \"negative\": 0.0,\n",
      "        \"neutral\": 0.0\n",
      "    },\n",
      "    \"Сертолово\": {\n",
      "        \"users_count\": 1,\n",
      "        \"percent\": 12.5,\n",
      "        \"user_messages\": [\n",
      "            \"Ваааау, спасибо за такое фото, Денис!! И вам прекрасного вечера!\"\n",
      "        ],\n",
      "        \"positive\": 1.0,\n",
      "        \"negative\": 0.0,\n",
      "        \"neutral\": 0.0\n",
      "    }\n",
      "}\n"
     ]
    }
   ],
   "source": [
    "from transformers import pipeline\n",
    "\n",
    "def top_regions(data):\n",
    "    '''\n",
    "    Топ-20 регионов с наибольшим числом пользователей\n",
    "    [регион | пользователей | % | тональность]\n",
    "    '''\n",
    "    # https://huggingface.co/blanchefort/rubert-base-cased-sentiment модель для анализа тональности\n",
    "    classifier = pipeline(\"sentiment-analysis\", model=\"blanchefort/rubert-base-cased-sentiment\") \n",
    "\n",
    "    city_users = {}\n",
    "\n",
    "    total_users = 0\n",
    "    \n",
    "    for i in data:\n",
    "        for item in i['vk']:\n",
    "            for post in item['posts']:\n",
    "                for reply in post.get('replies', []):\n",
    "                    city = reply.get('city', 'Unknown')\n",
    "                    if city not in city_users:\n",
    "                        city_users[city] = []\n",
    "                    city_users[city].append(reply['sender_id'])\n",
    "                    total_users += 1\n",
    "\n",
    "    city_stats = {}\n",
    "    for city, users in city_users.items():\n",
    "        users_count = len(users)\n",
    "        percent = (users_count / total_users) * 100\n",
    "\n",
    "        user_messages = [post['text'] for post in item['posts'] for post in post['replies'] if post.get('city') == city and post['text'] is not None]\n",
    "        classified_messages = classifier(user_messages)\n",
    "        len_messages = len(classified_messages)\n",
    "        positive = len([i for i in classified_messages if i['label']=='POSITIVE']) / len_messages\n",
    "        negative = len([i for i in classified_messages if i['label']=='NEGATIVE']) / len_messages\n",
    "        neutral = len([i for i in classified_messages if i['label']=='NEUTRAL']) / len_messages\n",
    "\n",
    "        city_stats[city] = {\n",
    "            'users_count': users_count,\n",
    "            'percent': percent,\n",
    "            'user_messages': user_messages,\n",
    "            'positive': positive,\n",
    "            'negative': negative,\n",
    "            'neutral': neutral\n",
    "        }\n",
    "\n",
    "    # Оставляем топ-20, сортируем city_stats по users_count \n",
    "    sorted_city_stats = dict(sorted(city_stats.items(), key=lambda x: x[1]['users_count'], reverse=True)[:20])\n",
    "\n",
    "    top_regions = json.dumps(sorted_city_stats, indent=4, ensure_ascii=False)\n",
    "    return top_regions\n",
    "\n",
    "result = top_regions(data)\n",
    "print(result)"
   ]
  }
 ],
 "metadata": {
  "kernelspec": {
   "display_name": "venv",
   "language": "python",
   "name": "python3"
  },
  "language_info": {
   "codemirror_mode": {
    "name": "ipython",
    "version": 3
   },
   "file_extension": ".py",
   "mimetype": "text/x-python",
   "name": "python",
   "nbconvert_exporter": "python",
   "pygments_lexer": "ipython3",
   "version": "3.10.12"
  }
 },
 "nbformat": 4,
 "nbformat_minor": 2
}
